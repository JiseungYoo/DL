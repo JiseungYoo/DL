{
  "cells": [
    {
      "cell_type": "markdown",
      "metadata": {
        "id": "K3FaHW-5eHcA"
      },
      "source": [
        "# network\n"
      ]
    },
    {
      "cell_type": "code",
      "execution_count": null,
      "metadata": {
        "id": "IbUB9B5jeMAB"
      },
      "outputs": [],
      "source": [
        "import networkx as nx\n",
        "from sklearn.feature_extraction.text import CountVectorizer\n",
        "import pandas as pd"
      ]
    },
    {
      "cell_type": "code",
      "execution_count": null,
      "metadata": {
        "id": "n7RBiilCeuNc"
      },
      "outputs": [],
      "source": [
        "def dtmmaker(text):\n",
        "    custom_tokenizer = CustomTokenizer()\n",
        "    vectorizer = CountVectorizer(tokenizer=custom_tokenizer, max_features=3000)\n",
        "    dtm = vectorizer.fit_transform(text)\n",
        "    dtm_df = pd.DataFrame(dtm.toarray(), columns=vectorizer.get_feature_names_out())\n",
        "    return dtm_df\n"
      ]
    },
    {
      "cell_type": "code",
      "execution_count": null,
      "metadata": {
        "id": "NiIv8hp4k534"
      },
      "outputs": [],
      "source": [
        "def adjmaker(dtm):\n",
        "    co_occurrence_matrix = np.dot(dtm.T, dtm)\n",
        "    binary_matrix = (co_occurrence_matrix > 0).astype(int)\n",
        "\n",
        "    dtm_ad = np.dot(binary_matrix.T, binary_matrix)\n",
        "\n",
        "\n",
        "    node_names = dtm.columns.tolist()\n",
        "    dtm_matrix = pd.DataFrame(dtm_ad, index=node_names, columns=node_names)\n",
        "\n",
        "    # Create a list of edges\n",
        "    dtm_edges = []\n",
        "    for i in range(len(dtm_ad)):\n",
        "        for j in range(i, len(dtm_ad)):\n",
        "            if dtm_ad[i][j] > 0:\n",
        "                dtm_edges.append((node_names[i], node_names[j], dtm_ad[i][j]))\n",
        "\n",
        "    # Create a dictionary from the edge tuples\n",
        "    edge_dict = {'source': [edge[0] for edge in dtm_edges],\n",
        "                'target': [edge[1] for edge in dtm_edges],\n",
        "                'weight': [edge[2] for edge in dtm_edges]}\n",
        "\n",
        "    # Create a dataframe from the dictionary and rename the index, columns, and values\n",
        "    dtm_edges_df = pd.DataFrame.from_dict(edge_dict)\n",
        "\n",
        "    dtm_edges_df = dtm_edges_df.sort_values('weight', ascending=False)\n",
        "\n",
        "    dtm_edges_df_top = dtm_edges_df[:10000]\n",
        "\n",
        "    return dtm_matrix, dtm_edges, dtm_edges_df_top\n"
      ]
    },
    {
      "cell_type": "markdown",
      "metadata": {
        "id": "PESqwpgFsupj"
      },
      "source": [
        "#pagerank\n"
      ]
    },
    {
      "cell_type": "code",
      "source": [
        "def pagerankmerge(df):\n",
        "  # Extract the first two columns as 2-tuples\n",
        "  df_tuple = [tuple(row) for row in df.iloc[:, :2].values]\n",
        "  G = nx.DiGraph()\n",
        "  G.add_edges_from(df_tuple)\n",
        "\n",
        "  # Calculate PageRank\n",
        "  pagerank = nx.pagerank(G)\n",
        "\n",
        "  # Convert PageRank dictionary to DataFrame\n",
        "  pagerank_df = pd.DataFrame.from_dict(pagerank, orient='index', columns=['PageRank'])\n",
        "\n",
        "  dff= df.iloc[:, :2]\n",
        "\n",
        "  # Merge the edge list DataFrame with the PageRank DataFrame\n",
        "  merged_df = pd.merge(dff, pagerank_df, left_on='source', right_index=True, how='left')\n",
        "  return merged_df"
      ],
      "metadata": {
        "id": "Fj5mwtn4x6PV"
      },
      "execution_count": null,
      "outputs": []
    },
    {
      "cell_type": "code",
      "source": [
        "def pagerank(df):\n",
        "  df_tuple = [tuple(row) for row in df.iloc[:, :2].values]\n",
        "  G = nx.DiGraph()\n",
        "  G.add_edges_from(df_tuple)\n",
        "  pagerank = nx.pagerank(G)\n",
        "  pagerank_df = pd.DataFrame.from_dict(pagerank, orient='index', columns=['PageRank'])\n",
        "  return pagerank_df"
      ],
      "metadata": {
        "id": "gsTDQBv-1qQe"
      },
      "execution_count": null,
      "outputs": []
    }
  ],
  "metadata": {
    "accelerator": "GPU",
    "colab": {
      "machine_shape": "hm",
      "provenance": []
    },
    "gpuClass": "standard",
    "interpreter": {
      "hash": "7703f9b00bbd9eabf6b5dbd8e2e28e3def65628c7caa8b5bd7a5214360b62133"
    },
    "kernelspec": {
      "display_name": "Python 3.8.12 64-bit ('my_python_env': conda)",
      "name": "python3"
    },
    "language_info": {
      "name": "python",
      "version": ""
    }
  },
  "nbformat": 4,
  "nbformat_minor": 0
}